{
 "cells": [
  {
   "cell_type": "markdown",
   "id": "1868c815",
   "metadata": {},
   "source": [
    "Write to s3"
   ]
  },
  {
   "cell_type": "code",
   "execution_count": null,
   "id": "6d98cc5f",
   "metadata": {},
   "outputs": [],
   "source": [
    "def write_to_s3(df, output_path):\n",
    "\n",
    "    try:\n",
    "        log(f'Writing file to {output_path}')\n",
    "        df \\\n",
    "            .repartition(100) \\\n",
    "            .write \\\n",
    "            .parquet(output_path, mode='overwrite')\n",
    "\n",
    "    except Exception as e:\n",
    "        raise ValueError(f'ERROR OCCURED IN WRITE TO S3 FUNCTION: {e}')"
   ]
  },
  {
   "cell_type": "markdown",
   "id": "4e71973a",
   "metadata": {},
   "source": [
    "Read from single partition in s3"
   ]
  },
  {
   "cell_type": "code",
   "execution_count": null,
   "id": "31fe0dd0",
   "metadata": {},
   "outputs": [],
   "source": [
    "path = 's3a://cars-data-lake-core/{bucket}'\n",
    "df = spark.read.parquet(path)"
   ]
  },
  {
   "cell_type": "markdown",
   "id": "d279d23f",
   "metadata": {},
   "source": [
    "Read from multiple partitions in s3\n"
   ]
  },
  {
   "cell_type": "code",
   "execution_count": null,
   "id": "2fc9306f",
   "metadata": {},
   "outputs": [],
   "source": [
    "def read_from_s3(spark, filedate, properties, path, _range, columns=[\"*\"]):\n",
    "    try:\n",
    "        data_path_list = []\n",
    "        interim_date = datetime.strptime(filedate, '%Y-%m-%d').date()\n",
    "\n",
    "        for i in range(_range):\n",
    "            data_path = path + 'filedate=' + datetime.strftime(interim_date, \"%Y-%m-%d\")\n",
    "            data_path_list.append(data_path)\n",
    "            interim_date = interim_date - timedelta(days=1)\n",
    "        DF = spark.read.option(\"basePath\", path).option(\"mergeSchema\", \"true\").load(data_path_list).select(columns)\n",
    "        \n",
    "        return DF\n",
    "\n",
    "    except Exception as e:\n",
    "        raise ValueError(f\"THERE WAS AN ERROR TO READ THE FILE FROM: {path} ERROR: {e}\")  "
   ]
  }
 ],
 "metadata": {
  "kernelspec": {
   "display_name": "Python 3 (ipykernel)",
   "language": "python",
   "name": "python3"
  },
  "language_info": {
   "codemirror_mode": {
    "name": "ipython",
    "version": 3
   },
   "file_extension": ".py",
   "mimetype": "text/x-python",
   "name": "python",
   "nbconvert_exporter": "python",
   "pygments_lexer": "ipython3",
   "version": "3.9.12"
  }
 },
 "nbformat": 4,
 "nbformat_minor": 5
}
